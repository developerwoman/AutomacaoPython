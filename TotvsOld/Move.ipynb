{
 "cells": [
  {
   "cell_type": "code",
   "execution_count": 21,
   "id": "6e239012",
   "metadata": {},
   "outputs": [
    {
     "ename": "KeyboardInterrupt",
     "evalue": "",
     "output_type": "error",
     "traceback": [
      "\u001b[1;31m---------------------------------------------------------------------------\u001b[0m",
      "\u001b[1;31mKeyboardInterrupt\u001b[0m                         Traceback (most recent call last)",
      "Input \u001b[1;32mIn [21]\u001b[0m, in \u001b[0;36m<cell line: 26>\u001b[1;34m()\u001b[0m\n\u001b[0;32m     31\u001b[0m py\u001b[38;5;241m.\u001b[39mhotkey(\u001b[38;5;124m\"\u001b[39m\u001b[38;5;124mctrl\u001b[39m\u001b[38;5;124m\"\u001b[39m, \u001b[38;5;124m\"\u001b[39m\u001b[38;5;124ma\u001b[39m\u001b[38;5;124m\"\u001b[39m)\n\u001b[0;32m     32\u001b[0m py\u001b[38;5;241m.\u001b[39mpress(\u001b[38;5;124m\"\u001b[39m\u001b[38;5;124mdel\u001b[39m\u001b[38;5;124m\"\u001b[39m)\n\u001b[1;32m---> 33\u001b[0m \u001b[43mtime\u001b[49m\u001b[38;5;241;43m.\u001b[39;49m\u001b[43msleep\u001b[49m\u001b[43m(\u001b[49m\u001b[38;5;241;43m5\u001b[39;49m\u001b[43m)\u001b[49m\n",
      "\u001b[1;31mKeyboardInterrupt\u001b[0m: "
     ]
    }
   ],
   "source": [
    "import pyautogui as py\n",
    "import time\n",
    "import pyperclip\n",
    "from datetime import datetime\n",
    "\n",
    "py.PAUSE=1\n",
    "\n",
    "dt = datetime.now()\n",
    "current_time = dt.strftime(\"%H:%M\")\n",
    "#print(\"Current Time is :\", current_time)\n",
    "\n",
    "#abrir busca do windows\n",
    "py.press(\"winleft\")\n",
    "\n",
    "#digitar Notepad\n",
    "py.write(\"notepad\")\n",
    "py.press(\"enter\")\n",
    "#maximizar notepad\n",
    "py.click(x=1236, y=253)\n",
    "\n",
    "#09:02 - 12:28\n",
    "#12:32 - 13:28\n",
    "#13:32 - 17:58\n",
    "#18:02 - 09:02\n",
    "\n",
    "while 1 == 1:\n",
    "\n",
    "    if current_time >= \"09:02\" and current_time <= \"12:28\" or current_time >= \"12:32\" and current_time <= \"13:28\" or current_time >= \"13:32\" and current_time <= \"17:58\" or current_time >= \"18:02\":\n",
    "        #print(\"entrou no if\")\n",
    "        py.write(\"Se hoje é o dia das crianças... Ontem eu disse: o dia da criança é o dia da mãe, dos pais, das professoras, mas também é o dia dos animais, sempre que você olha uma criança, há sempre uma figura oculta, que é um cachorro atrás. O que é algo muito importante!\")\n",
    "        py.hotkey(\"ctrl\", \"a\")\n",
    "        py.press(\"del\")\n",
    "        time.sleep(5)"
   ]
  },
  {
   "cell_type": "code",
   "execution_count": 1,
   "id": "96d81ca0",
   "metadata": {},
   "outputs": [
    {
     "data": {
      "text/plain": [
       "Point(x=1336, y=10)"
      ]
     },
     "execution_count": 1,
     "metadata": {},
     "output_type": "execute_result"
    }
   ],
   "source": [
    "import time\n",
    "import pyautogui\n",
    "\n",
    "time.sleep(5)\n",
    "pyautogui.position()"
   ]
  },
  {
   "cell_type": "markdown",
   "id": "e4b8057e",
   "metadata": {},
   "source": []
  },
  {
   "cell_type": "markdown",
   "id": "c87e339d",
   "metadata": {},
   "source": []
  },
  {
   "cell_type": "markdown",
   "id": "6da3f849",
   "metadata": {},
   "source": []
  }
 ],
 "metadata": {
  "kernelspec": {
   "display_name": "Python 3 (ipykernel)",
   "language": "python",
   "name": "python3"
  },
  "language_info": {
   "codemirror_mode": {
    "name": "ipython",
    "version": 3
   },
   "file_extension": ".py",
   "mimetype": "text/x-python",
   "name": "python",
   "nbconvert_exporter": "python",
   "pygments_lexer": "ipython3",
   "version": "3.9.12"
  }
 },
 "nbformat": 4,
 "nbformat_minor": 5
}
