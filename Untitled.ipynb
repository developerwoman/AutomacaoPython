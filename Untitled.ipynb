{
 "cells": [
  {
   "cell_type": "code",
   "execution_count": 48,
   "id": "76a42f12",
   "metadata": {},
   "outputs": [
    {
     "name": "stdout",
     "output_type": "stream",
     "text": [
      "['Nova linhaNova linhaAlessandra', '_____Alessandra']\n"
     ]
    }
   ],
   "source": [
    "from calendar import weekday\n",
    "import pyautogui as py\n",
    "import time\n",
    "import pyperclip\n",
    "import os\n",
    "import pandas as pd\n",
    "\n",
    "\n",
    "arquivo = open(r'C:/Users/T807409/Desktop/testePython.txt', \"r\")# Abra o arquivo (leitura)\n",
    "conteudo = arquivo.readlines()  \n",
    "conteudo.append('_____Alessandra')   # insira seu conteúdo\n",
    "\n",
    "arquivo = open(r'C:/Users/T807409/Desktop/testePython.txt', \"w\") # Abre novamente o arquivo (escrita)\n",
    "arquivo.writelines(conteudo)    # escreva o conteúdo criado anteriormente nele.\n",
    "print(conteudo)\n",
    "arquivo.close()\n",
    "\n",
    "\n",
    "    \n",
    "#with open(\"C:/Users/T807409/Desktop/testePython.txt\", \"r\") as f:\n",
    " #   row = 0\n",
    "  #  while True:\n",
    "   #     row += row + 1\n",
    "    #    print(row)\n",
    "     #   file_eof = f.read()\n",
    "      #  print(file_eof)\n",
    "       # if file_eof == '':\n",
    "        #    print('End Of File - row:' + str(row))\n",
    "         #   break\n",
    "    \n",
    "    "
   ]
  },
  {
   "cell_type": "code",
   "execution_count": null,
   "id": "f23f14a3",
   "metadata": {},
   "outputs": [],
   "source": []
  },
  {
   "cell_type": "code",
   "execution_count": null,
   "id": "51b5e5ad",
   "metadata": {},
   "outputs": [],
   "source": []
  }
 ],
 "metadata": {
  "kernelspec": {
   "display_name": "Python 3 (ipykernel)",
   "language": "python",
   "name": "python3"
  },
  "language_info": {
   "codemirror_mode": {
    "name": "ipython",
    "version": 3
   },
   "file_extension": ".py",
   "mimetype": "text/x-python",
   "name": "python",
   "nbconvert_exporter": "python",
   "pygments_lexer": "ipython3",
   "version": "3.9.12"
  }
 },
 "nbformat": 4,
 "nbformat_minor": 5
}
