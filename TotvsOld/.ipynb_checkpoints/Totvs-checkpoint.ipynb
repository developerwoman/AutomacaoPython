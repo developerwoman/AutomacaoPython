{
 "cells": [
  {
   "cell_type": "code",
   "execution_count": 3,
   "id": "4e093c14",
   "metadata": {},
   "outputs": [],
   "source": [
    "import pyautogui as py\n",
    "import time\n",
    "import pyperclip\n",
    "from datetime import datetime"
   ]
  },
  {
   "cell_type": "code",
   "execution_count": 4,
   "id": "d9090a04",
   "metadata": {},
   "outputs": [],
   "source": [
    "py.PAUSE = 1\n",
    "\n",
    "dt = datetime.now()\n",
    "#print (\"Datetime is :\", dt)\n",
    "#print(\"Weekday is:\", dt.isoweekday())\n",
    "#current_time = dt.strftime(\"%H:%M:%S\")\n",
    "#print(\"Current Time is :\", current_time)\n",
    "\n",
    "if dt.isoweekday() != 5 and dt.isoweekday() != 6:\n",
    "   \n",
    "        #Abrir Chrome \n",
    "        py.press(\"winleft\")\n",
    "        py.write(\"Chrome\")\n",
    "        py.press(\"enter\")\n",
    "        #maximiza tela\n",
    "        py.click(x=1125, y=33)\n",
    "        #clica no perfil\n",
    "        py.click(x=417, y=435)\n",
    "        \n",
    "        #focus na barra de endereço\n",
    "        py.click(x=397, y=51)\n",
    "\n",
    "        #Copiar e colar endereço (https://navasoftware127725.rm.cloudtotvs.com.br/FrameHTML/Web/App/RH/PortalMeuRH/#/login)\n",
    "        pyperclip.copy(\"https://navasoftware127725.rm.cloudtotvs.com.br/FrameHTML/Web/App/RH/PortalMeuRH/#/login\")\n",
    "        py.hotkey(\"ctrl\", \"v\")\n",
    "        py.press(\"enter\")\n",
    "        time.sleep(5)\n",
    "\n",
    "        #pegar position campo login e campo senha\n",
    "        py.click(x=291, y=388, clicks=2)\n",
    "        py.press(\"del\")\n",
    "        py.write (\"07389\")\n",
    "        py.press(\"tab\")\n",
    "        py.write(\"31105125807\")\n",
    "        py.press(\"enter\")\n",
    "        time.sleep(3)\n",
    "\n",
    "        #pegar position seta Ponto\n",
    "        py.click(x=233, y=322)\n",
    "\n",
    "        #pegar position Relógio e click\n",
    "        py.click(x=81, y=469)\n",
    "        time.sleep(3)\n",
    "\n",
    "        #pegar poistion Bater Ponto (moveRel())\n",
    "        py.click(x=805, y=405)\n",
    "        #py.dragTo(905, 505, 2, button=\"left\")\n",
    "        \n",
    "#\n",
    "#\n",
    "#\n",
    "#\n",
    "#\n",
    "#\n",
    "#"
   ]
  },
  {
   "cell_type": "code",
   "execution_count": 5,
   "id": "823c28c7",
   "metadata": {},
   "outputs": [
    {
     "data": {
      "text/plain": [
       "Point(x=382, y=368)"
      ]
     },
     "execution_count": 5,
     "metadata": {},
     "output_type": "execute_result"
    }
   ],
   "source": [
    "#import time\n",
    "#import pyautogui\n",
    "\n",
    "#time.sleep(5)\n",
    "#pyautogui.position()"
   ]
  },
  {
   "cell_type": "code",
   "execution_count": null,
   "id": "b97b9388",
   "metadata": {},
   "outputs": [],
   "source": []
  }
 ],
 "metadata": {
  "kernelspec": {
   "display_name": "Python 3 (ipykernel)",
   "language": "python",
   "name": "python3"
  },
  "language_info": {
   "codemirror_mode": {
    "name": "ipython",
    "version": 3
   },
   "file_extension": ".py",
   "mimetype": "text/x-python",
   "name": "python",
   "nbconvert_exporter": "python",
   "pygments_lexer": "ipython3",
   "version": "3.9.12"
  }
 },
 "nbformat": 4,
 "nbformat_minor": 5
}
